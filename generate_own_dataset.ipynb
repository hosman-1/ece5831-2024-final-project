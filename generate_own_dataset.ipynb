{
 "cells": [
  {
   "cell_type": "markdown",
   "metadata": {},
   "source": [
    "# Generating My Own Dataset For Training"
   ]
  },
  {
   "cell_type": "markdown",
   "metadata": {},
   "source": [
    "## Intro and Reason For Not Using Online Dataset"
   ]
  },
  {
   "cell_type": "markdown",
   "metadata": {},
   "source": [
    "So after I was able to parse through a dataset from online and collecting the videos, frames, and data to use, and then training the data, I found that my model was highly inaccurate and would fluctuate during training."
   ]
  },
  {
   "cell_type": "markdown",
   "metadata": {},
   "source": [
    "There are a few reasons for why this might be happening, including the dataset not having a lot of videos per word or the videos being very low quality."
   ]
  },
  {
   "cell_type": "markdown",
   "metadata": {},
   "source": [
    "I tried looking for other datasets to use, but many of them were just a clone of the original with some minor modifications to the way the author structured the directory."
   ]
  },
  {
   "cell_type": "markdown",
   "metadata": {},
   "source": [
    "So, I decided the best approach is to try and create my own videos that will be higher quality and there will be more videos than in the dataset. Currently, I plan to record about 100 videos per word and, since the sign only takes a few seconds to complete, each word should take only a few minutes."
   ]
  },
  {
   "cell_type": "markdown",
   "metadata": {},
   "source": [
    "The reason why this was not done before, is that I thought the dataset would be enough and I was planning to use over 2000 words, with a total of over 21,000 videos. This is not easy to do manually. However, since the low quality is making my training inaccurate, I will try to do as many words as I can but manually"
   ]
  },
  {
   "cell_type": "markdown",
   "metadata": {},
   "source": [
    "## Generating the Dataset"
   ]
  },
  {
   "cell_type": "markdown",
   "metadata": {},
   "source": [
    "First, I will generate 100 videos for each word and save them in mp4 format. Then, I will go through each video and convert it to individual frames. Finally, I will loop through each frame in each video and generate the landmark points using mediapipe's holistic model"
   ]
  },
  {
   "cell_type": "markdown",
   "metadata": {},
   "source": [
    "### Collecting The Videos"
   ]
  },
  {
   "cell_type": "markdown",
   "metadata": {},
   "source": [
    "The video generation will be done using ```cv2```. ```Numpy``` will be used for dealing with array data. ```os``` will be used for system commands like creating directories and moving files."
   ]
  },
  {
   "cell_type": "code",
   "execution_count": 11,
   "metadata": {},
   "outputs": [],
   "source": [
    "import cv2\n",
    "import numpy as np\n",
    "import os\n",
    "import time"
   ]
  },
  {
   "cell_type": "markdown",
   "metadata": {},
   "source": [
    "First, I will try to make one video and then use a function to generate videos for all the words"
   ]
  },
  {
   "cell_type": "code",
   "execution_count": null,
   "metadata": {},
   "outputs": [],
   "source": [
    "# For read from webcam\n",
    "cap = cv2.VideoCapture(0)\n",
    "frame_width = int(cap.get(cv2.CAP_PROP_FRAME_WIDTH))\n",
    "frame_height = int(cap.get(cv2.CAP_PROP_FRAME_HEIGHT))\n",
    "\n",
    "# For creating the video\n",
    "fourcc = cv2.VideoWriter_fourcc(*'mp4v')\n",
    "fps = 60\n",
    "\n",
    "while True:\n",
    "    # Capturing videos for 1 word\n",
    "    for word in range(1):\n",
    "        # Capturing 2 videos per word\n",
    "        for vid_num in range(2):\n",
    "            out_vid_file_path = f'{word}_{vid_num}.mp4'\n",
    "            out_vid = cv2.VideoWriter(out_vid_file_path, fourcc, fps, (frame_width, frame_height))\n",
    "            #Capturing 2 seconds per video\n",
    "            for num_frame in range(int(1.25*fps + 1)):\n",
    "                ret,frame = cap.read()\n",
    "\n",
    "                if not ret:\n",
    "                    print('Could not capture frame')\n",
    "                    break\n",
    "                cv2.putText(frame, f'Frame {num_frame}, res {frame_width}, {frame_height}', (30,30), cv2.FONT_HERSHEY_SIMPLEX, \n",
    "                            1, (255,0,0), 2, cv2.LINE_AA)\n",
    "                if num_frame == 0:\n",
    "                    cv2.imshow('Test_Feed', frame)\n",
    "                    cv2.waitKey(2000)\n",
    "                else:\n",
    "                    cv2.imshow('Test_Feed', frame)\n",
    "                    out_vid.write(frame)\n",
    "\n",
    "                # Break the loop on 'q' key press\n",
    "                if cv2.waitKey(1) & 0xFF == ord('q'):\n",
    "                    break\n",
    "            out_vid.release()\n",
    "    break\n",
    "\n",
    "cap.release()\n",
    "cv2.destroyAllWindows()"
   ]
  },
  {
   "cell_type": "markdown",
   "metadata": {},
   "source": [
    "This successfully generated 2 videos in a row. Now, I can put this in a function and get the start_word, end_word, and a list of labels as arguments."
   ]
  },
  {
   "cell_type": "markdown",
   "metadata": {},
   "source": [
    "This function will first create the directories where the videos will be saved if they do not exist already. Then it will generate 100 videos for each word, with each video being 2 seconds long"
   ]
  },
  {
   "cell_type": "code",
   "execution_count": 27,
   "metadata": {},
   "outputs": [],
   "source": [
    "def generate_videos(start_word=0, end_word=1):\n",
    "    videos_per_word = 100\n",
    "\n",
    "    # For read from webcam\n",
    "    cap = cv2.VideoCapture(0)\n",
    "    frame_width = int(cap.get(cv2.CAP_PROP_FRAME_WIDTH))\n",
    "    frame_height = int(cap.get(cv2.CAP_PROP_FRAME_HEIGHT))\n",
    "\n",
    "    # For creating the video\n",
    "    fourcc = cv2.VideoWriter_fourcc(*'mp4v')\n",
    "    fps = 60\n",
    "\n",
    "    break_videos = False\n",
    "    while True:\n",
    "        # Capturing videos for as many words as given in the parameters\n",
    "        for word in range(start_word, end_word):\n",
    "\n",
    "            # Capturing 2 videos per word\n",
    "            for vid_num in range(videos_per_word):\n",
    "                # Create output directory if it does not exist\n",
    "                out_vid_dir = os.path.join('video_data', f'{word}', f'{vid_num}')\n",
    "                if os.path.exists(out_vid_dir) is False:\n",
    "                    print(f'Creating {out_vid_dir}')\n",
    "                    os.makedirs(out_vid_dir)\n",
    "                else:\n",
    "                    print(f'{out_vid_dir} already exists')\n",
    "\n",
    "                # Creating VideoWriter\n",
    "                out_vid_file_path = os.path.join(out_vid_dir,f'{word}_{vid_num}.mp4')\n",
    "                out_vid = cv2.VideoWriter(out_vid_file_path, fourcc, fps, (frame_width, frame_height))\n",
    "                \n",
    "                #Capturing 2 seconds per video\n",
    "                for num_frame in range(int(1.25*fps + 1)):\n",
    "                    ret,frame = cap.read()\n",
    "\n",
    "                    if not ret:\n",
    "                        print('Could not capture frame')\n",
    "                        break\n",
    "                    cv2.putText(frame, f'Frame {num_frame}, res {frame_width}, {frame_height}', (30,30), cv2.FONT_HERSHEY_SIMPLEX, \n",
    "                                0.8, (255,0,0), 1, cv2.LINE_AA)\n",
    "                    # Wait to get into position to show the sign, then start saving frames\n",
    "                    if num_frame == 0:\n",
    "                        cv2.imshow('Test_Feed', frame)\n",
    "                        cv2.waitKey(2000)\n",
    "                    else:\n",
    "                        cv2.imshow('Test_Feed', frame)\n",
    "                        out_vid.write(frame)\n",
    "\n",
    "                    # Break the whole video creation on 'q' key press\n",
    "                    if cv2.waitKey(1) & 0xFF == ord('q'):\n",
    "                        break_videos = True\n",
    "                        break\n",
    "                if break_videos is True:\n",
    "                    break\n",
    "            if break_videos is True:\n",
    "                break\n",
    "        break\n",
    "\n",
    "    cap.release()\n",
    "    out_vid.release()\n",
    "    cv2.destroyAllWindows()"
   ]
  },
  {
   "cell_type": "markdown",
   "metadata": {},
   "source": [
    "Now I will test this with one word: __book__"
   ]
  },
  {
   "cell_type": "code",
   "execution_count": 28,
   "metadata": {},
   "outputs": [
    {
     "name": "stdout",
     "output_type": "stream",
     "text": [
      "Creating video_data/0/0\n",
      "Creating video_data/0/1\n",
      "Creating video_data/0/2\n",
      "Creating video_data/0/3\n",
      "Creating video_data/0/4\n",
      "Creating video_data/0/5\n",
      "Creating video_data/0/6\n",
      "Creating video_data/0/7\n",
      "Creating video_data/0/8\n",
      "Creating video_data/0/9\n",
      "Creating video_data/0/10\n",
      "Creating video_data/0/11\n",
      "Creating video_data/0/12\n",
      "Creating video_data/0/13\n",
      "Creating video_data/0/14\n",
      "Creating video_data/0/15\n",
      "Creating video_data/0/16\n",
      "Creating video_data/0/17\n",
      "Creating video_data/0/18\n",
      "Creating video_data/0/19\n",
      "Creating video_data/0/20\n",
      "Creating video_data/0/21\n",
      "Creating video_data/0/22\n",
      "Creating video_data/0/23\n",
      "Creating video_data/0/24\n",
      "Creating video_data/0/25\n",
      "Creating video_data/0/26\n",
      "Creating video_data/0/27\n",
      "Creating video_data/0/28\n",
      "Creating video_data/0/29\n",
      "Creating video_data/0/30\n",
      "Creating video_data/0/31\n",
      "Creating video_data/0/32\n",
      "Creating video_data/0/33\n",
      "Creating video_data/0/34\n",
      "Creating video_data/0/35\n",
      "Creating video_data/0/36\n",
      "Creating video_data/0/37\n",
      "Creating video_data/0/38\n",
      "Creating video_data/0/39\n",
      "Creating video_data/0/40\n",
      "Creating video_data/0/41\n",
      "Creating video_data/0/42\n",
      "Creating video_data/0/43\n",
      "Creating video_data/0/44\n",
      "Creating video_data/0/45\n",
      "Creating video_data/0/46\n",
      "Creating video_data/0/47\n",
      "Creating video_data/0/48\n",
      "Creating video_data/0/49\n",
      "Creating video_data/0/50\n",
      "Creating video_data/0/51\n",
      "Creating video_data/0/52\n",
      "Creating video_data/0/53\n",
      "Creating video_data/0/54\n",
      "Creating video_data/0/55\n",
      "Creating video_data/0/56\n",
      "Creating video_data/0/57\n",
      "Creating video_data/0/58\n",
      "Creating video_data/0/59\n",
      "Creating video_data/0/60\n",
      "Creating video_data/0/61\n",
      "Creating video_data/0/62\n",
      "Creating video_data/0/63\n",
      "Creating video_data/0/64\n",
      "Creating video_data/0/65\n",
      "Creating video_data/0/66\n",
      "Creating video_data/0/67\n",
      "Creating video_data/0/68\n",
      "Creating video_data/0/69\n",
      "Creating video_data/0/70\n",
      "Creating video_data/0/71\n",
      "Creating video_data/0/72\n",
      "Creating video_data/0/73\n",
      "Creating video_data/0/74\n",
      "Creating video_data/0/75\n",
      "Creating video_data/0/76\n",
      "Creating video_data/0/77\n",
      "Creating video_data/0/78\n",
      "Creating video_data/0/79\n",
      "Creating video_data/0/80\n",
      "Creating video_data/0/81\n",
      "Creating video_data/0/82\n",
      "Creating video_data/0/83\n",
      "Creating video_data/0/84\n",
      "Creating video_data/0/85\n",
      "Creating video_data/0/86\n",
      "Creating video_data/0/87\n",
      "Creating video_data/0/88\n",
      "Creating video_data/0/89\n",
      "Creating video_data/0/90\n",
      "Creating video_data/0/91\n",
      "Creating video_data/0/92\n",
      "Creating video_data/0/93\n",
      "Creating video_data/0/94\n",
      "Creating video_data/0/95\n",
      "Creating video_data/0/96\n",
      "Creating video_data/0/97\n",
      "Creating video_data/0/98\n",
      "Creating video_data/0/99\n"
     ]
    }
   ],
   "source": [
    "generate_videos()"
   ]
  },
  {
   "cell_type": "markdown",
   "metadata": {},
   "source": [
    "I watched back some of the videos, and it looks like there is one small issue. Every video after the first one has its first 5 frames from the previous video. But, this is not a big deal, as a I can later make the data for training, testing, and validation only take the last 70 frames."
   ]
  },
  {
   "cell_type": "markdown",
   "metadata": {},
   "source": [
    "However, it takes about 7.5 min per word, so I will not be doing all 10 words at the same time. I will try to do one each, 10 times."
   ]
  },
  {
   "cell_type": "markdown",
   "metadata": {},
   "source": [
    "The next word after book is: __drink__"
   ]
  },
  {
   "cell_type": "code",
   "execution_count": 29,
   "metadata": {},
   "outputs": [
    {
     "name": "stdout",
     "output_type": "stream",
     "text": [
      "Creating video_data/1/0\n",
      "Creating video_data/1/1\n",
      "Creating video_data/1/2\n",
      "Creating video_data/1/3\n",
      "Creating video_data/1/4\n",
      "Creating video_data/1/5\n",
      "Creating video_data/1/6\n",
      "Creating video_data/1/7\n",
      "Creating video_data/1/8\n",
      "Creating video_data/1/9\n",
      "Creating video_data/1/10\n",
      "Creating video_data/1/11\n",
      "Creating video_data/1/12\n",
      "Creating video_data/1/13\n",
      "Creating video_data/1/14\n",
      "Creating video_data/1/15\n",
      "Creating video_data/1/16\n",
      "Creating video_data/1/17\n",
      "Creating video_data/1/18\n",
      "Creating video_data/1/19\n",
      "Creating video_data/1/20\n",
      "Creating video_data/1/21\n",
      "Creating video_data/1/22\n",
      "Creating video_data/1/23\n",
      "Creating video_data/1/24\n",
      "Creating video_data/1/25\n",
      "Creating video_data/1/26\n",
      "Creating video_data/1/27\n",
      "Creating video_data/1/28\n",
      "Creating video_data/1/29\n",
      "Creating video_data/1/30\n",
      "Creating video_data/1/31\n",
      "Creating video_data/1/32\n",
      "Creating video_data/1/33\n",
      "Creating video_data/1/34\n",
      "Creating video_data/1/35\n",
      "Creating video_data/1/36\n",
      "Creating video_data/1/37\n",
      "Creating video_data/1/38\n",
      "Creating video_data/1/39\n",
      "Creating video_data/1/40\n",
      "Creating video_data/1/41\n",
      "Creating video_data/1/42\n",
      "Creating video_data/1/43\n",
      "Creating video_data/1/44\n",
      "Creating video_data/1/45\n",
      "Creating video_data/1/46\n",
      "Creating video_data/1/47\n",
      "Creating video_data/1/48\n",
      "Creating video_data/1/49\n",
      "Creating video_data/1/50\n",
      "Creating video_data/1/51\n",
      "Creating video_data/1/52\n",
      "Creating video_data/1/53\n",
      "Creating video_data/1/54\n",
      "Creating video_data/1/55\n",
      "Creating video_data/1/56\n",
      "Creating video_data/1/57\n",
      "Creating video_data/1/58\n",
      "Creating video_data/1/59\n",
      "Creating video_data/1/60\n",
      "Creating video_data/1/61\n",
      "Creating video_data/1/62\n",
      "Creating video_data/1/63\n",
      "Creating video_data/1/64\n",
      "Creating video_data/1/65\n",
      "Creating video_data/1/66\n",
      "Creating video_data/1/67\n",
      "Creating video_data/1/68\n",
      "Creating video_data/1/69\n",
      "Creating video_data/1/70\n",
      "Creating video_data/1/71\n",
      "Creating video_data/1/72\n",
      "Creating video_data/1/73\n",
      "Creating video_data/1/74\n",
      "Creating video_data/1/75\n",
      "Creating video_data/1/76\n",
      "Creating video_data/1/77\n",
      "Creating video_data/1/78\n",
      "Creating video_data/1/79\n",
      "Creating video_data/1/80\n",
      "Creating video_data/1/81\n",
      "Creating video_data/1/82\n",
      "Creating video_data/1/83\n",
      "Creating video_data/1/84\n",
      "Creating video_data/1/85\n",
      "Creating video_data/1/86\n",
      "Creating video_data/1/87\n",
      "Creating video_data/1/88\n",
      "Creating video_data/1/89\n",
      "Creating video_data/1/90\n",
      "Creating video_data/1/91\n",
      "Creating video_data/1/92\n",
      "Creating video_data/1/93\n",
      "Creating video_data/1/94\n",
      "Creating video_data/1/95\n",
      "Creating video_data/1/96\n",
      "Creating video_data/1/97\n",
      "Creating video_data/1/98\n",
      "Creating video_data/1/99\n"
     ]
    }
   ],
   "source": [
    "generate_videos(start_word=1, end_word=2) # Word 1 (second word) is drink"
   ]
  },
  {
   "cell_type": "markdown",
   "metadata": {},
   "source": [
    "Next is the word: __computer__"
   ]
  },
  {
   "cell_type": "markdown",
   "metadata": {},
   "source": []
  }
 ],
 "metadata": {
  "kernelspec": {
   "display_name": "ece5831-2024",
   "language": "python",
   "name": "python3"
  },
  "language_info": {
   "codemirror_mode": {
    "name": "ipython",
    "version": 3
   },
   "file_extension": ".py",
   "mimetype": "text/x-python",
   "name": "python",
   "nbconvert_exporter": "python",
   "pygments_lexer": "ipython3",
   "version": "3.10.15"
  }
 },
 "nbformat": 4,
 "nbformat_minor": 2
}
