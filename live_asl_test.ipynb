{
 "cells": [
  {
   "cell_type": "code",
   "execution_count": 1,
   "metadata": {},
   "outputs": [
    {
     "name": "stderr",
     "output_type": "stream",
     "text": [
      "2024-12-15 12:11:18.545571: I tensorflow/core/util/port.cc:153] oneDNN custom operations are on. You may see slightly different numerical results due to floating-point round-off errors from different computation orders. To turn them off, set the environment variable `TF_ENABLE_ONEDNN_OPTS=0`.\n",
      "2024-12-15 12:11:18.548338: I external/local_xla/xla/tsl/cuda/cudart_stub.cc:32] Could not find cuda drivers on your machine, GPU will not be used.\n",
      "2024-12-15 12:11:18.555474: I external/local_xla/xla/tsl/cuda/cudart_stub.cc:32] Could not find cuda drivers on your machine, GPU will not be used.\n",
      "2024-12-15 12:11:18.575101: E external/local_xla/xla/stream_executor/cuda/cuda_fft.cc:477] Unable to register cuFFT factory: Attempting to register factory for plugin cuFFT when one has already been registered\n",
      "WARNING: All log messages before absl::InitializeLog() is called are written to STDERR\n",
      "E0000 00:00:1734282678.606973    8418 cuda_dnn.cc:8310] Unable to register cuDNN factory: Attempting to register factory for plugin cuDNN when one has already been registered\n",
      "E0000 00:00:1734282678.616012    8418 cuda_blas.cc:1418] Unable to register cuBLAS factory: Attempting to register factory for plugin cuBLAS when one has already been registered\n",
      "2024-12-15 12:11:18.651644: I tensorflow/core/platform/cpu_feature_guard.cc:210] This TensorFlow binary is optimized to use available CPU instructions in performance-critical operations.\n",
      "To enable the following instructions: AVX2 AVX512F AVX512_VNNI AVX512_BF16 FMA, in other operations, rebuild TensorFlow with the appropriate compiler flags.\n"
     ]
    }
   ],
   "source": [
    "import cv2\n",
    "import numpy as np\n",
    "import tensorflow as tf\n",
    "import mediapipe as mp"
   ]
  },
  {
   "cell_type": "code",
   "execution_count": 2,
   "metadata": {},
   "outputs": [],
   "source": [
    "# Function to load class names from labels.txt\n",
    "def load_labels(label_file):\n",
    "    with open(label_file, 'r') as f:\n",
    "        lines = f.read().splitlines()\n",
    "        #print(lines)\n",
    "        word_dict = {}\n",
    "        for i in range(len(lines)):\n",
    "            id_word = lines[i].split(',')\n",
    "            word_dict[id_word[0]] = id_word[1]\n",
    "    return word_dict"
   ]
  },
  {
   "cell_type": "code",
   "execution_count": 3,
   "metadata": {},
   "outputs": [
    {
     "name": "stdout",
     "output_type": "stream",
     "text": [
      "{'0': 'book', '1': 'drink', '2': 'computer', '3': 'before', '4': 'chair', '5': 'who', '6': 'go', '7': 'yes', '8': 'no', '9': 'thanks', '10': 'please'}\n"
     ]
    }
   ],
   "source": [
    "# Load the class names from the labels.txt file\n",
    "labels_dict = load_labels('words.txt')\n",
    "print(labels_dict)"
   ]
  },
  {
   "cell_type": "code",
   "execution_count": 4,
   "metadata": {},
   "outputs": [
    {
     "name": "stderr",
     "output_type": "stream",
     "text": [
      "W0000 00:00:1734282682.886055    8418 gpu_device.cc:2344] Cannot dlopen some GPU libraries. Please make sure the missing libraries mentioned above are installed properly if you would like to use GPU. Follow the guide at https://www.tensorflow.org/install/gpu for how to download and setup the required libraries for your platform.\n",
      "Skipping registering GPU devices...\n"
     ]
    }
   ],
   "source": [
    "# Load the trained model\n",
    "model = tf.keras.models.load_model('asl_11words_model_4L2D_93acc.keras')"
   ]
  },
  {
   "cell_type": "code",
   "execution_count": 5,
   "metadata": {},
   "outputs": [
    {
     "name": "stderr",
     "output_type": "stream",
     "text": [
      "WARNING: All log messages before absl::InitializeLog() is called are written to STDERR\n",
      "I0000 00:00:1734282683.429995    8418 gl_context_egl.cc:85] Successfully initialized EGL. Major : 1 Minor: 5\n",
      "I0000 00:00:1734282683.436190    8536 gl_context.cc:357] GL version: 3.2 (OpenGL ES 3.2 Mesa 23.2.1-1ubuntu3.1~22.04.2), renderer: GFX1103_R1 (gfx1103_r1, LLVM 15.0.7, DRM 3.57, 6.8.0-49-generic)\n"
     ]
    }
   ],
   "source": [
    "mp_holistic = mp.solutions.holistic\n",
    "\n",
    "holistic_model = mp_holistic.Holistic(\n",
    "    min_detection_confidence=0.5,\n",
    "    min_tracking_confidence=0.5\n",
    ")"
   ]
  },
  {
   "cell_type": "code",
   "execution_count": 6,
   "metadata": {},
   "outputs": [
    {
     "name": "stderr",
     "output_type": "stream",
     "text": [
      "INFO: Created TensorFlow Lite XNNPACK delegate for CPU.\n"
     ]
    }
   ],
   "source": [
    "def retrieve_landmarks(landmark_results):\n",
    "    frame_pose_lm = []\n",
    "    frame_face_lm = []\n",
    "    frame_left_hand_lm = []\n",
    "    frame_right_hand_lm = []\n",
    "    \n",
    "    # Get landmarks for pose\n",
    "    if landmark_results.pose_landmarks is None:\n",
    "        frame_pose_lm = np.zeros((33,4))\n",
    "    else:\n",
    "        for lm in landmark_results.pose_landmarks.landmark:\n",
    "            pose_lm = np.array([lm.x, lm.y, lm.z, lm.visibility])\n",
    "            frame_pose_lm.append(pose_lm)\n",
    "\n",
    "    # Get landmarks for face\n",
    "    if landmark_results.face_landmarks is None:\n",
    "        frame_face_lm = np.zeros((468,3))\n",
    "    else:\n",
    "        for lm in landmark_results.face_landmarks.landmark:\n",
    "            face_lm = np.array([lm.x, lm.y, lm.z])\n",
    "            frame_face_lm.append(face_lm)\n",
    "\n",
    "    # Get landmarks for left hand\n",
    "    if landmark_results.left_hand_landmarks is None:\n",
    "        frame_left_hand_lm = np.zeros((21,3))\n",
    "    else:\n",
    "        for lm in landmark_results.left_hand_landmarks.landmark:\n",
    "            left_hand_lm = np.array([lm.x, lm.y, lm.z])\n",
    "            frame_left_hand_lm.append(left_hand_lm)\n",
    "\n",
    "    # Get landmarks for right hand\n",
    "    if landmark_results.right_hand_landmarks is None:\n",
    "        frame_right_hand_lm = np.zeros((21,3))\n",
    "    else:\n",
    "        for lm in landmark_results.right_hand_landmarks.landmark:\n",
    "            right_hand_lm = np.array([lm.x, lm.y, lm.z])\n",
    "            frame_right_hand_lm.append(right_hand_lm)\n",
    "\n",
    "    #Convert all arrays to numpy arrays\n",
    "    frame_pose_lm_np = np.asarray(frame_pose_lm)\n",
    "    frame_face_lm_np = np.asarray(frame_face_lm)\n",
    "    frame_left_hand_lm_np = np.asarray(frame_left_hand_lm)\n",
    "    frame_right_hand_lm_np = np.asarray(frame_right_hand_lm)\n",
    "\n",
    "    # Print shapes for debugging\n",
    "    #print(frame_pose_lm_np.shape)\n",
    "    #print(frame_face_lm_np.shape)\n",
    "    #print(frame_left_hand_lm_np.shape)\n",
    "    #print(frame_right_hand_lm_np.shape)\n",
    "\n",
    "    # Flatten all arrays\n",
    "    frame_pose_lm_np_flat = frame_pose_lm_np.flatten()\n",
    "    frame_face_lm_np_flat = frame_face_lm_np.flatten()\n",
    "    frame_left_hand_lm_np_flat = frame_left_hand_lm_np.flatten()\n",
    "    frame_right_hand_lm_np_flat = frame_right_hand_lm_np.flatten()\n",
    "\n",
    "    #Combine all landmarks to one big array.\n",
    "    return np.concatenate([frame_pose_lm_np_flat, frame_face_lm_np_flat, frame_left_hand_lm_np_flat, frame_right_hand_lm_np_flat])"
   ]
  },
  {
   "cell_type": "code",
   "execution_count": 7,
   "metadata": {},
   "outputs": [
    {
     "name": "stdout",
     "output_type": "stream",
     "text": [
      "[[1 2]\n",
      " [3 4]]\n"
     ]
    }
   ],
   "source": [
    "l = []\n",
    "l.append(np.array([1,2]))\n",
    "l.append(np.array([3,4]))\n",
    "l_np = np.array(l)\n",
    "print(l_np)"
   ]
  },
  {
   "cell_type": "code",
   "execution_count": 8,
   "metadata": {},
   "outputs": [],
   "source": [
    "def detect_holistic(image):\n",
    "    img = cv2.cvtColor(image, cv2.COLOR_BGR2RGB) # Convert the color to RGB to pass into the holistic model\n",
    "    img.flags.writeable = False # Avoid any bugs by not allowing the image to be modified\n",
    "    landmarks = holistic_model.process(img) # Extract landmarks from the image\n",
    "    img.flags.writeable = True  # Make the image writeable again\n",
    "    img = cv2.cvtColor(img, cv2.COLOR_RGB2BGR) # Conver the color back to the original BGR format\n",
    "\n",
    "    return landmarks"
   ]
  },
  {
   "cell_type": "code",
   "execution_count": 20,
   "metadata": {},
   "outputs": [
    {
     "name": "stdout",
     "output_type": "stream",
     "text": [
      "Predicting....\n",
      "\u001b[1m1/1\u001b[0m \u001b[32m━━━━━━━━━━━━━━━━━━━━\u001b[0m\u001b[37m\u001b[0m \u001b[1m0s\u001b[0m 38ms/step\n",
      "top 3: [2 0 1] with confidence [0.97923607 0.01517844 0.00379175]\n",
      "predicted word: computer\n",
      "sentence so far: computer \n",
      "Predicting....\n",
      "\u001b[1m1/1\u001b[0m \u001b[32m━━━━━━━━━━━━━━━━━━━━\u001b[0m\u001b[37m\u001b[0m \u001b[1m0s\u001b[0m 40ms/step\n",
      "top 3: [2 0 1] with confidence [0.9553951  0.02854311 0.00843115]\n",
      "predicted word: computer\n",
      "sentence so far: computer computer \n",
      "Predicting....\n",
      "\u001b[1m1/1\u001b[0m \u001b[32m━━━━━━━━━━━━━━━━━━━━\u001b[0m\u001b[37m\u001b[0m \u001b[1m0s\u001b[0m 42ms/step\n",
      "top 3: [2 5 1] with confidence [0.8411177  0.10930631 0.02382405]\n",
      "predicted word: computer\n",
      "sentence so far: computer computer computer \n",
      "Predicting....\n",
      "\u001b[1m1/1\u001b[0m \u001b[32m━━━━━━━━━━━━━━━━━━━━\u001b[0m\u001b[37m\u001b[0m \u001b[1m0s\u001b[0m 39ms/step\n",
      "top 3: [1 7 0] with confidence [0.94163847 0.03167971 0.01523339]\n",
      "predicted word: drink\n",
      "sentence so far: computer computer computer drink \n",
      "Predicting....\n",
      "\u001b[1m1/1\u001b[0m \u001b[32m━━━━━━━━━━━━━━━━━━━━\u001b[0m\u001b[37m\u001b[0m \u001b[1m0s\u001b[0m 39ms/step\n",
      "top 3: [0 2 1] with confidence [0.78023994 0.12785654 0.04816664]\n",
      "too low confidence.\n",
      "sentence so far: computer computer computer drink \n"
     ]
    }
   ],
   "source": [
    "# Initialize the webcam\n",
    "cap = cv2.VideoCapture(0)\n",
    "\n",
    "# Getting frame width and height for video saving\n",
    "frame_width = int(cap.get(cv2.CAP_PROP_FRAME_WIDTH))\n",
    "frame_height = int(cap.get(cv2.CAP_PROP_FRAME_HEIGHT))\n",
    "\n",
    "# codec and VideoWriter for saving the video\n",
    "#fourcc = cv2.VideoWriter_fourcc(*'mp4v')\n",
    "#out_video = cv2.VideoWriter(\"live_asl_demo.mp4\", fourcc, 30, (frame_width, frame_height))\n",
    "frames_sequence = []\n",
    "full_sentence = ''\n",
    "while True:\n",
    "    # Capture frame-by-frame\n",
    "    ret, frame = cap.read()\n",
    "    \n",
    "    if not ret:\n",
    "        print(\"Failed to grab frame\")\n",
    "        break\n",
    "\n",
    "\n",
    "    # Predict the class\n",
    "    landmarks = detect_holistic(frame)\n",
    "    landmark_array = retrieve_landmarks(landmark_results=landmarks)\n",
    "    frames_sequence.append(landmark_array)\n",
    "\n",
    "    if len(frames_sequence) == 70:\n",
    "        cv2.waitKey(1000)\n",
    "        print(f'Predicting....')\n",
    "        expanded_sequence = np.expand_dims(frames_sequence, axis=0)\n",
    "        predictions_prob = model.predict(expanded_sequence)[0]\n",
    "        sorted_probs = np.argsort(predictions_prob)\n",
    "        top_three_ind = sorted_probs[-3:]\n",
    "        top_three_ind = np.flip(top_three_ind)\n",
    "        top_three_vals = predictions_prob[top_three_ind]\n",
    "        print(f'top 3: {top_three_ind} with confidence {top_three_vals}')\n",
    "        if top_three_vals[0] > 0.8:\n",
    "            top_word = labels_dict.get(str(top_three_ind[0]), \"?\")\n",
    "            #print(predictions_prob)\n",
    "            full_sentence = full_sentence + str(top_word) + ' '\n",
    "            print(f'predicted word: {top_word}')\n",
    "            cv2.putText(frame, f'Predicted {top_word}', (10, 30), cv2.FONT_HERSHEY_SIMPLEX, 1, (255, 0, 0), 2, cv2.LINE_AA)\n",
    "            cv2.imshow('ASL_Demo', frame)\n",
    "            cv2.waitKey(1000)\n",
    "        else:\n",
    "            cv2.putText(frame, f'Low confidence', (10, 30), cv2.FONT_HERSHEY_SIMPLEX, 1, (255, 0, 0), 2, cv2.LINE_AA)\n",
    "            cv2.imshow('ASL_Demo', frame)\n",
    "            cv2.waitKey(1000)\n",
    "            print('too low confidence.')\n",
    "        print(f'sentence so far: {full_sentence}')\n",
    "        frames_sequence.clear()\n",
    "    \n",
    "    # Display the resulting frame with prediction\n",
    "    cv2.putText(frame, f'Collecting Frames', (10, 30), cv2.FONT_HERSHEY_SIMPLEX, 1, (255, 0, 0), 2, cv2.LINE_AA)\n",
    "    cv2.imshow('ASL_Demo', frame)\n",
    "\n",
    "    # Write frame to the output video file\n",
    "    #out_video.write(frame)\n",
    "    \n",
    "    # Break the loop on 'q' key press\n",
    "    if cv2.waitKey(1) & 0xFF == ord('q'):\n",
    "        break\n",
    "\n",
    "# When everything is done, release the capture and video writer\n",
    "cap.release()\n",
    "#out_video.release()\n",
    "cv2.destroyAllWindows()"
   ]
  },
  {
   "cell_type": "code",
   "execution_count": null,
   "metadata": {},
   "outputs": [],
   "source": []
  }
 ],
 "metadata": {
  "kernelspec": {
   "display_name": "ece5831-2024",
   "language": "python",
   "name": "python3"
  },
  "language_info": {
   "codemirror_mode": {
    "name": "ipython",
    "version": 3
   },
   "file_extension": ".py",
   "mimetype": "text/x-python",
   "name": "python",
   "nbconvert_exporter": "python",
   "pygments_lexer": "ipython3",
   "version": "3.10.15"
  }
 },
 "nbformat": 4,
 "nbformat_minor": 2
}
